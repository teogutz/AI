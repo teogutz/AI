{
 "cells": [
  {
   "cell_type": "code",
   "execution_count": 65,
   "id": "7255b5cd",
   "metadata": {},
   "outputs": [],
   "source": [
    "from submission import PriorityQueue\n",
    "from search_submission_tests import TestPriorityQueue"
   ]
  },
  {
   "cell_type": "code",
   "execution_count": 60,
   "id": "3699ebfc",
   "metadata": {},
   "outputs": [],
   "source": [
    "import random"
   ]
  },
  {
   "cell_type": "code",
   "execution_count": 49,
   "id": "34241aed",
   "metadata": {},
   "outputs": [],
   "source": [
    "queue = PriorityQueue()\n",
    "temp_list = []\n",
    "\n",
    "for _ in range(10):\n",
    "    a = random.randint(0, 10000)\n",
    "    queue.append((a, 'a'))\n",
    "    temp_list.append(a)\n",
    "\n",
    "temp_list = sorted(temp_list)"
   ]
  },
  {
   "cell_type": "code",
   "execution_count": 42,
   "id": "8e79222c",
   "metadata": {},
   "outputs": [
    {
     "name": "stdout",
     "output_type": "stream",
     "text": [
      "232 232\n",
      "1724 1724\n",
      "1947 1947\n",
      "4034 4034\n",
      "4561 4561\n",
      "4625 4625\n",
      "4789 4789\n",
      "6336 6336\n",
      "6547 6547\n",
      "7014 7014\n"
     ]
    }
   ],
   "source": [
    "for item in temp_list:\n",
    "    popped = queue.pop()\n",
    "    print(popped[0], item)"
   ]
  },
  {
   "cell_type": "code",
   "execution_count": 37,
   "id": "c6c3e565",
   "metadata": {},
   "outputs": [
    {
     "data": {
      "text/plain": [
       "<function search_submission_tests.TestPriorityQueue.test_append_and_pop(self)>"
      ]
     },
     "execution_count": 37,
     "metadata": {},
     "output_type": "execute_result"
    }
   ],
   "source": [
    "test.test_append_and_pop"
   ]
  },
  {
   "cell_type": "code",
   "execution_count": 21,
   "id": "04d5e99a",
   "metadata": {},
   "outputs": [
    {
     "data": {
      "text/plain": [
       "[1121, 1306, 2053, 4404, 4706, 5150, 6005, 6241, 6353, 7634]"
      ]
     },
     "execution_count": 21,
     "metadata": {},
     "output_type": "execute_result"
    }
   ],
   "source": [
    "for item in temp_list:\n",
    "    "
   ]
  },
  {
   "cell_type": "code",
   "execution_count": 29,
   "id": "5acf5fd4",
   "metadata": {},
   "outputs": [
    {
     "data": {
      "text/plain": [
       "[(250, 'a'),\n",
       " (990, 'a'),\n",
       " (3697, 'a'),\n",
       " (2972, 'a'),\n",
       " (2812, 'a'),\n",
       " (4974, 'a'),\n",
       " (7276, 'a'),\n",
       " (9808, 'a'),\n",
       " (3914, 'a'),\n",
       " (7048, 'a')]"
      ]
     },
     "execution_count": 29,
     "metadata": {},
     "output_type": "execute_result"
    }
   ],
   "source": [
    "queue.queue"
   ]
  },
  {
   "cell_type": "code",
   "execution_count": 30,
   "id": "ee520bd8",
   "metadata": {},
   "outputs": [
    {
     "data": {
      "text/plain": [
       "[3914, 9808, 4974, 2812, 7048, 3697, 7276, 2972, 250, 990]"
      ]
     },
     "execution_count": 30,
     "metadata": {},
     "output_type": "execute_result"
    }
   ],
   "source": [
    "temp_list"
   ]
  },
  {
   "cell_type": "code",
   "execution_count": 33,
   "id": "e15be58d",
   "metadata": {},
   "outputs": [
    {
     "ename": "IndexError",
     "evalue": "index out of range",
     "output_type": "error",
     "traceback": [
      "\u001b[0;31m---------------------------------------------------------------------------\u001b[0m",
      "\u001b[0;31mIndexError\u001b[0m                                Traceback (most recent call last)",
      "Input \u001b[0;32mIn [33]\u001b[0m, in \u001b[0;36m<cell line: 1>\u001b[0;34m()\u001b[0m\n\u001b[0;32m----> 1\u001b[0m \u001b[43mqueue\u001b[49m\u001b[38;5;241;43m.\u001b[39;49m\u001b[43mpop\u001b[49m\u001b[43m(\u001b[49m\u001b[43m)\u001b[49m\n",
      "File \u001b[0;32m~/Dev/cs6601/assignment_1/submission.py:46\u001b[0m, in \u001b[0;36mPriorityQueue.pop\u001b[0;34m(self)\u001b[0m\n\u001b[1;32m     37\u001b[0m \u001b[38;5;124;03m\"\"\"\u001b[39;00m\n\u001b[1;32m     38\u001b[0m \u001b[38;5;124;03mPop top priority node from queue.\u001b[39;00m\n\u001b[1;32m     39\u001b[0m \n\u001b[1;32m     40\u001b[0m \u001b[38;5;124;03mReturns:\u001b[39;00m\n\u001b[1;32m     41\u001b[0m \u001b[38;5;124;03m    The node with the highest priority.\u001b[39;00m\n\u001b[1;32m     42\u001b[0m \u001b[38;5;124;03m\"\"\"\u001b[39;00m\n\u001b[1;32m     44\u001b[0m \u001b[38;5;66;03m# TODO: finish this function!\u001b[39;00m\n\u001b[1;32m     45\u001b[0m \u001b[38;5;66;03m#raise NotImplementedError\u001b[39;00m\n\u001b[0;32m---> 46\u001b[0m \u001b[38;5;28;01mreturn\u001b[39;00m \u001b[43mheapq\u001b[49m\u001b[38;5;241;43m.\u001b[39;49m\u001b[43mheappop\u001b[49m\u001b[43m(\u001b[49m\u001b[38;5;28;43mself\u001b[39;49m\u001b[38;5;241;43m.\u001b[39;49m\u001b[43mqueue\u001b[49m\u001b[43m)\u001b[49m\n",
      "\u001b[0;31mIndexError\u001b[0m: index out of range"
     ]
    }
   ],
   "source": [
    "queue.pop()"
   ]
  },
  {
   "cell_type": "code",
   "execution_count": 34,
   "id": "36fc4b04",
   "metadata": {},
   "outputs": [
    {
     "data": {
      "text/plain": [
       "[]"
      ]
     },
     "execution_count": 34,
     "metadata": {},
     "output_type": "execute_result"
    }
   ],
   "source": [
    "queue.queue"
   ]
  },
  {
   "cell_type": "code",
   "execution_count": 61,
   "id": "629758e5",
   "metadata": {},
   "outputs": [],
   "source": [
    "p = PriorityQueue()"
   ]
  },
  {
   "cell_type": "code",
   "execution_count": 66,
   "id": "05719cdb",
   "metadata": {},
   "outputs": [],
   "source": [
    "temp_list = [(1,'b'), (1, 'c'), (1, 'a')]"
   ]
  },
  {
   "cell_type": "code",
   "execution_count": 63,
   "id": "a76f764e",
   "metadata": {},
   "outputs": [],
   "source": [
    "for node in temp_list:\n",
    "    p.append(node)"
   ]
  },
  {
   "cell_type": "code",
   "execution_count": 64,
   "id": "35387c24",
   "metadata": {},
   "outputs": [
    {
     "data": {
      "text/plain": [
       "[(1, 'a'), (1, 'c'), (1, 'b')]"
      ]
     },
     "execution_count": 64,
     "metadata": {},
     "output_type": "execute_result"
    }
   ],
   "source": [
    "p.queue"
   ]
  },
  {
   "cell_type": "code",
   "execution_count": 70,
   "id": "8bd15bcc",
   "metadata": {},
   "outputs": [
    {
     "name": "stderr",
     "output_type": "stream",
     "text": [
      "IOPub data rate exceeded.\n",
      "The notebook server will temporarily stop sending output\n",
      "to the client in order to avoid crashing it.\n",
      "To change this limit, set the config variable\n",
      "`--NotebookApp.iopub_data_rate_limit`.\n",
      "\n",
      "Current values:\n",
      "NotebookApp.iopub_data_rate_limit=1000000.0 (bytes/sec)\n",
      "NotebookApp.rate_limit_window=3.0 (secs)\n",
      "\n"
     ]
    }
   ],
   "source": [
    "%run -i 'test.py'"
   ]
  },
  {
   "cell_type": "code",
   "execution_count": null,
   "id": "315b86d5",
   "metadata": {},
   "outputs": [],
   "source": []
  }
 ],
 "metadata": {
  "kernelspec": {
   "display_name": "base",
   "language": "python",
   "name": "base"
  },
  "language_info": {
   "codemirror_mode": {
    "name": "ipython",
    "version": 3
   },
   "file_extension": ".py",
   "mimetype": "text/x-python",
   "name": "python",
   "nbconvert_exporter": "python",
   "pygments_lexer": "ipython3",
   "version": "3.10.4"
  }
 },
 "nbformat": 4,
 "nbformat_minor": 5
}
